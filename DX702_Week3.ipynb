{
 "cells": [
  {
   "cell_type": "markdown",
   "id": "07a7a3bd",
   "metadata": {},
   "source": [
    "# DX702 — Coding Homework Week 3\n",
    "\n",
    "**Student:** _<your name>_  \n",
    "**Date:** _<MM/DD/YY>_\n",
    "\n",
    "This notebook is organized to help you complete Week 3 tasks:\n",
    "1) Load a time series dataset that contains an *event date* and test for a **discontinuity** using linear regression (Regression Discontinuity Design).\n",
    "2) Produce visuals (time plot, moving averages, and fitted lines).\n",
    "3) Implement **normalization** (min–max) and **standardization** (z-scores) helpers.\n",
    "4) Answer short-response prompts in the provided *Answer* cells.\n",
    "\n",
    "> Replace any placeholder paths and event date below with what your instructor provided (e.g., from the course GitHub repo)."
   ]
  },
  {
   "cell_type": "code",
   "execution_count": null,
   "id": "6834fc44",
   "metadata": {},
   "outputs": [],
   "source": [
    "# === Setup ===\n",
    "import numpy as np\n",
    "import pandas as pd\n",
    "import matplotlib.pyplot as plt\n",
    "\n",
    "# Helper: nice display options\n",
    "pd.set_option('display.max_colwidth', 120)\n",
    "pd.set_option('display.precision', 4)\n",
    "\n",
    "print('✅ Libraries imported.')"
   ]
  },
  {
   "cell_type": "markdown",
   "id": "d8e5f906",
   "metadata": {},
   "source": [
    "## 1) Load Data\n",
    "\n",
    "Update the `DATA_PATH`, `DATE_COL`, and `TARGET_COL` to match the dataset from your Week 3 repo.  \n",
    "If your data is daily, ensure the date column is parsed as datetime and sorted."
   ]
  },
  {
   "cell_type": "code",
   "execution_count": null,
   "id": "7731b160",
   "metadata": {},
   "outputs": [],
   "source": [
    "# --- EDIT THESE ---\n",
    "DATA_PATH  = 'path/to/your_week3_timeseries.csv'  # e.g., '../data/week3_series.csv'\n",
    "DATE_COL   = 'date'       # column with timestamps/dates\n",
    "TARGET_COL = 'y'          # the numeric series you will analyze\n",
    "EVENT_DATE = '2020-06-15' # <-- replace with the actual event date given in the assignment\n",
    "\n",
    "# Load\n",
    "df = pd.read_csv(DATA_PATH)\n",
    "# Parse date and sort\n",
    "df[DATE_COL] = pd.to_datetime(df[DATE_COL])\n",
    "df = df.sort_values(DATE_COL).reset_index(drop=True)\n",
    "\n",
    "print('✅ Data loaded. Shape:', df.shape)\n",
    "display(df.head(10))"
   ]
  },
  {
   "cell_type": "markdown",
   "id": "0a1a3e52",
   "metadata": {},
   "source": [
    "## 2) Quick Visualization\n",
    "A simple line plot to see the series and visually locate the event date."
   ]
  },
  {
   "cell_type": "code",
   "execution_count": null,
   "id": "a1e64aea",
   "metadata": {},
   "outputs": [],
   "source": [
    "fig, ax = plt.subplots(figsize=(10, 4))\n",
    "ax.plot(df[DATE_COL], df[TARGET_COL], linewidth=1)\n",
    "ax.axvline(pd.to_datetime(EVENT_DATE), linestyle='--')\n",
    "ax.set_title('Time Series with Event Date')\n",
    "ax.set_xlabel('Date'); ax.set_ylabel(TARGET_COL)\n",
    "plt.show()\n",
    "\n",
    "# Optional: simple moving average to smooth noise\n",
    "df['SMA_7'] = df[TARGET_COL].rolling(7, min_periods=1).mean()\n",
    "fig, ax = plt.subplots(figsize=(10, 4))\n",
    "ax.plot(df[DATE_COL], df[TARGET_COL], alpha=0.4, label='raw')\n",
    "ax.plot(df[DATE_COL], df['SMA_7'], linewidth=2, label='SMA 7')\n",
    "ax.axvline(pd.to_datetime(EVENT_DATE), linestyle='--')\n",
    "ax.legend(); ax.set_title('Raw vs 7-Day SMA'); ax.set_xlabel('Date')\n",
    "plt.show()"
   ]
  },
  {
   "cell_type": "markdown",
   "id": "6d174cf8",
   "metadata": {},
   "source": [
    "## 3) Regression Discontinuity (Event) Test with Linear Regression\n",
    "\n",
    "We test whether there is a **level jump** at the event date while controlling for a linear time trend.  \n",
    "We create regressors:\n",
    "- `t`: a running time index (0 at first observation)\n",
    "- `post`: indicator (1 if date ≥ event date, else 0)\n",
    "- `t_post`: interaction (`t * post`) to allow a slope change after the event\n",
    "\n",
    "The parameter on `post` captures the *instant level change* at the event.\n",
    "The parameter on `t_post` captures a *slope change* after the event."
   ]
  },
  {
   "cell_type": "code",
   "execution_count": null,
   "id": "3d010ce7",
   "metadata": {},
   "outputs": [],
   "source": [
    "# Build design matrix\n",
    "df = df.copy()\n",
    "df['t'] = np.arange(len(df))\n",
    "event_ts = pd.to_datetime(EVENT_DATE)\n",
    "df['post'] = (df[DATE_COL] >= event_ts).astype(int)\n",
    "df['t_post'] = df['t'] * df['post']\n",
    "\n",
    "df[['t','post','t_post']].head()"
   ]
  },
  {
   "cell_type": "code",
   "execution_count": null,
   "id": "a8f6dd95",
   "metadata": {},
   "outputs": [],
   "source": [
    "# Fit OLS using numpy (to avoid extra dependencies)\n",
    "# Model: y = b0 + b1*t + b2*post + b3*t_post\n",
    "X = np.column_stack([\n",
    "    np.ones(len(df)),      # intercept\n",
    "    df['t'].values,\n",
    "    df['post'].values,\n",
    "    df['t_post'].values\n",
    "])\n",
    "y = df[TARGET_COL].values\n",
    "\n",
    "# Closed-form OLS: beta = (X'X)^(-1) X'y\n",
    "XtX = X.T @ X\n",
    "XtX_inv = np.linalg.pinv(XtX)\n",
    "beta = XtX_inv @ (X.T @ y)\n",
    "\n",
    "coef_names = ['Intercept','t (trend)','post (level jump)','t_post (slope change)']\n",
    "for name, b in zip(coef_names, beta):\n",
    "    print(f'{name:22s}: {b: .4f}')\n",
    "\n",
    "# Fitted values\n",
    "y_hat = X @ beta\n",
    "df['y_hat'] = y_hat\n",
    "\n",
    "# Plot fit pre/post\n",
    "fig, ax = plt.subplots(figsize=(10,4))\n",
    "ax.plot(df[DATE_COL], df[TARGET_COL], alpha=0.5, label='actual')\n",
    "ax.plot(df[DATE_COL], df['y_hat'], linewidth=2, label='fitted OLS')\n",
    "ax.axvline(event_ts, linestyle='--', label='event')\n",
    "ax.set_title('OLS with Event (discontinuity)')\n",
    "ax.legend(); ax.set_xlabel('Date')\n",
    "plt.show()"
   ]
  },
  {
   "cell_type": "markdown",
   "id": "f9257aab",
   "metadata": {},
   "source": [
    "### (Optional) Robust Standard Errors (Quick Approximation)\n",
    "\n",
    "Below is a simple (not cluster-robust) sandwich variance approximation for reference so you can inspect **t-stats**.  \n",
    "For rigorous inference, you may use `statsmodels` with HAC/Newey-West or cluster options if allowed."
   ]
  },
  {
   "cell_type": "code",
   "execution_count": null,
   "id": "341839ba",
   "metadata": {},
   "outputs": [],
   "source": [
    "# Simple (non-robust) OLS standard errors\n",
    "resid = y - y_hat\n",
    "n, k = X.shape\n",
    "sigma2 = (resid @ resid) / (n - k)\n",
    "var_beta = sigma2 * XtX_inv\n",
    "se = np.sqrt(np.diag(var_beta))\n",
    "t_stats = beta / se\n",
    "\n",
    "print('\\nCoefficients, SE, t-stats (non-robust)')\n",
    "for name, b, s, t in zip(coef_names, beta, se, t_stats):\n",
    "    print(f'{name:22s}: beta={b: .4f},  SE={s: .4f},  t={t: .2f}')"
   ]
  },
  {
   "cell_type": "markdown",
   "id": "94086cdc",
   "metadata": {},
   "source": [
    "### Sensitivity: Local Bandwidth Around Event\n",
    "\n",
    "Sometimes you restrict the analysis to a window around the event. Adjust `WINDOW_DAYS` as needed."
   ]
  },
  {
   "cell_type": "code",
   "execution_count": null,
   "id": "f9d56724",
   "metadata": {},
   "outputs": [],
   "source": [
    "WINDOW_DAYS = 60  # try 30, 60, 90, etc.\n",
    "mask = (df[DATE_COL] >= event_ts - pd.Timedelta(days=WINDOW_DAYS)) &        (df[DATE_COL] <= event_ts + pd.Timedelta(days=WINDOW_DAYS))\n",
    "dfl = df.loc[mask].copy()\n",
    "dfl['t_local'] = np.arange(len(dfl))\n",
    "dfl['post_local'] = (dfl[DATE_COL] >= event_ts).astype(int)\n",
    "dfl['t_post_local'] = dfl['t_local'] * dfl['post_local']\n",
    "\n",
    "Xl = np.column_stack([\n",
    "    np.ones(len(dfl)),\n",
    "    dfl['t_local'].values,\n",
    "    dfl['post_local'].values,\n",
    "    dfl['t_post_local'].values\n",
    "])\n",
    "yl = dfl[TARGET_COL].values\n",
    "\n",
    "beta_l = np.linalg.pinv(Xl.T @ Xl) @ (Xl.T @ yl)\n",
    "yh_l = Xl @ beta_l\n",
    "\n",
    "fig, ax = plt.subplots(figsize=(10,4))\n",
    "ax.plot(dfl[DATE_COL], dfl[TARGET_COL], alpha=0.5, label='actual')\n",
    "ax.plot(dfl[DATE_COL], yh_l, linewidth=2, label='fitted (local window)')\n",
    "ax.axvline(event_ts, linestyle='--', label='event')\n",
    "ax.set_title(f'Local Window ±{WINDOW_DAYS} days around event')\n",
    "ax.legend(); ax.set_xlabel('Date')\n",
    "plt.show()\n",
    "\n",
    "for name, b in zip(coef_names, beta_l):\n",
    "    print(f'{name:22s}: {b: .4f}')"
   ]
  },
  {
   "cell_type": "markdown",
   "id": "29c742ba",
   "metadata": {},
   "source": [
    "## 4) Helper Functions — Normalization & Standardization\n",
    "Use these to answer quiz items like “normalize [1,2,4]” or “standardize [1,2,4]”."
   ]
  },
  {
   "cell_type": "code",
   "execution_count": null,
   "id": "a5072e98",
   "metadata": {},
   "outputs": [],
   "source": [
    "def minmax_normalize(a):\n",
    "    a = np.asarray(a, dtype=float)\n",
    "    mn, mx = np.min(a), np.max(a)\n",
    "    if mx == mn:\n",
    "        return np.zeros_like(a)\n",
    "    return (a - mn) / (mx - mn)\n",
    "\n",
    "def zscore_standardize(a, ddof=0):\n",
    "    \"\"\"Return z-scores. By default uses population std (ddof=0).\n",
    "    If your course expects sample std, set ddof=1.\"\"\"\n",
    "    a = np.asarray(a, dtype=float)\n",
    "    mu = a.mean()\n",
    "    std = a.std(ddof=ddof)\n",
    "    if std == 0:\n",
    "        return np.zeros_like(a)\n",
    "    return (a - mu) / std\n",
    "\n",
    "# Demo on [1,2,4]\n",
    "arr = np.array([1,2,4])\n",
    "print('Normalize [1,2,4]:', np.round(minmax_normalize(arr), 3))\n",
    "print('Standardize [1,2,4] (population):', np.round(zscore_standardize(arr, ddof=0), 2))\n",
    "print('Standardize [1,2,4] (sample):     ', np.round(zscore_standardize(arr, ddof=1), 2))"
   ]
  },
  {
   "cell_type": "markdown",
   "id": "e573dc68",
   "metadata": {},
   "source": [
    "## 5) Short Answers (fill these in)\n",
    "\n",
    "**Q1.** In your OLS RDD, what is the estimated level jump at the event (coefficient on `post`)?  \n",
    "**Answer:** _<fill in>_\n",
    "\n",
    "**Q2.** Does the slope appear to change after the event (coefficient on `t_post`)? Interpret briefly.  \n",
    "**Answer:** _<fill in>_\n",
    "\n",
    "**Q3.** Normalize the vector [1, 2, 4] using min–max.  \n",
    "**Answer:** _[0.0, 0.333..., 1.0]_\n",
    "\n",
    "**Q4.** Standardize [1, 2, 4] using z-scores. Indicate whether you used population or sample std.  \n",
    "**Answer:** _Population std → roughly [-1.07, -0.27, 1.34]_\n",
    "\n",
    "**Q5.** Include a figure that visually marks the event date and the fitted regression lines (already produced above). Paste it in your submission where requested."
   ]
  },
  {
   "cell_type": "markdown",
   "id": "0e96f110",
   "metadata": {},
   "source": [
    "---\n",
    "\n",
    "### What to Submit\n",
    "- Export this notebook as required by your course (e.g., .ipynb and/or PDF).\n",
    "- Make sure you replaced the placeholder paths and `EVENT_DATE`, and that your figures render correctly.\n",
    "- Keep narrative answers concise and evidence-based.\n",
    "\n",
    "> Tip: If your grader expects `statsmodels` or scikit-learn, you can add those imports and replicate the OLS with robust SEs. The core design matrix and interpretation remain the same."
   ]
  }
 ],
 "metadata": {},
 "nbformat": 4,
 "nbformat_minor": 5
}
